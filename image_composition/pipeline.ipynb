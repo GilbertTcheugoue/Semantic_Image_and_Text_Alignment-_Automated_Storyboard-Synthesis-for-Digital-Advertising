{
  "nbformat": 4,
  "nbformat_minor": 0,
  "metadata": {
    "colab": {
      "provenance": []
    },
    "kernelspec": {
      "name": "python3",
      "display_name": "Python 3"
    },
    "language_info": {
      "name": "python"
    }
  },
  "cells": [
    {
      "cell_type": "code",
      "execution_count": null,
      "metadata": {
        "id": "j0kscpGUQG6J"
      },
      "outputs": [],
      "source": [
        "from image_composer import ImageComposer\n",
        "from image_generator import ImageGenerater\n",
        "from storyboard_visualizer import StoryBoard"
      ]
    },
    {
      "cell_type": "markdown",
      "source": [
        "**Data**"
      ],
      "metadata": {
        "id": "pcLN-COHQZou"
      }
    },
    {
      "cell_type": "code",
      "source": [
        "concept = {\n",
        "    \"frame_1\": {\n",
        "        \"Background\": \"A high-resolution 3D Coca-Cola bottle center-screen, bubbles rising to the top, transitioning into a sleek DJ turntable with a vinyl record that has the Coke Studio logo.\",\n",
        "        \"CTA Button\": \"'Mix Your Beat' in bold, playful font pulsating to the rhythm of a subtle background beat, positioned at the bottom of the screen.\"\n",
        "    },\n",
        "    \"frame_2\": {\n",
        "        \"Interactive Elements\": \"A digital beat mixer interface with vibrant, touch-responsive Latin American instrument icons like congas, claves, and maracas, each activating a unique sound layer.\",\n",
        "        \"Background\": \"A dynamic, abstract representation of sound waves that move in sync with the user's interactions.\"\n",
        "    },\n",
        "     \"frame_3\": {\n",
        "        \"Background\": \"A dynamic, abstract representation of sound waves that move in sync with the user's interactions.\",\n",
        "        \"Animation\": \"A kaleidoscope of colors that dance across the screen, with each beat added, symbolizing the fusion of cultures and music.\",\n",
        "        \"CTA Button\": \"A 'Play Your Mix' button that pulses like a heartbeat, encouraging users to share their creation.\"\n",
        "    },\n",
        "    \"explanation\": \"This variation emphasizes the joy and interactivity of music mixing, with each frame building on the last to create a crescendo of engagement. The 3D bottle-to-turntable animation captures attention, the interactive beat mixer sustains engagement, and the vibrant animations encourage sharing, aligning with the campaign's objectives of engagement and message recall.\"\n",
        "}"
      ],
      "metadata": {
        "id": "aULqnTeoQdKS"
      },
      "execution_count": null,
      "outputs": []
    },
    {
      "cell_type": "code",
      "source": [
        "concept = {\n",
        "    \"frame_1\": {\n",
        "        \"Background\": \"A high-resolution 3D animation of a Coca-Cola bottle on a vibrant background. The bottle is detailed with effervescent bubbles rising to the top. Gradually, the bottle transforms into a DJ turntable, featuring a sleek design with illuminated controls and a vinyl record emblazoned with the Coke Studio logo, symbolizing the fusion of refreshment and music.\",\n",
        "        \"CTA Button\": \"'Mix Your Beat' displayed in a bold, dynamic font on a contrasting background. The font style is playful and energetic, designed to evoke a sense of creativity and engagement. The text is surrounded by a subtle glow, suggesting interactivity and inviting the viewer to start their musical adventure.\"\n",
        "    },\n",
        "    \"frame_2\": {\n",
        "        \"Interactive Elements\": \"A digital beat mixer interface showcasing vibrant icons of Latin American musical instruments such as congas, claves, and maracas. Each icon is designed to be touch-responsive, illuminating and animating upon interaction to emit distinctive sound layers. The interface is set against a background that visually represents the music's energy through animated, abstract sound waves.\",\n",
        "        \"Background\": \"An abstract, animated visualization of sound waves that dynamically react to interactions on the digital beat mixer. The sound waves pulse, expand, and change colors in real time, creating a visual representation of the music being mixed. The background enhances the immersive experience, reflecting the user's creative input in a visually engaging manner.\"\n",
        "    },\n",
        "    \"frame_3\": {\n",
        "        \"Background\": \"An abstract, animated visualization of sound waves that dynamically react to interactions on the digital beat mixer. The sound waves pulse, expand, and change colors in real time, creating a visual representation of the music being mixed. The background enhances the immersive experience, reflecting the user's creative input in a visually engaging manner.\",\n",
        "        \"Animation\": \"A dynamic, colorful animation that bursts into life with each added beat, symbolizing the vibrant energy of Coke Studio's musical fusion. The screen is filled with an ever-changing kaleidoscope of colors, with each new layer of music adding complexity to the visual celebration, reflecting the creativity and diversity of the user's mix.\",\n",
        "        \"CTA Button\": \"A prominently placed 'Play Your Mix' button that pulses in rhythm with the generated music mix. The button's design is inviting, with a visual style that suggests action and progression, encouraging the viewer to engage with their creation and share it. The pulsing effect enhances the sense of urgency and excitement about the music mix.\"\n",
        "    },\n",
        "    \"explanation\": \"These descriptions are crafted to ensure each asset is vividly detailed and self-contained, suitable for generating individual images that collectively build the narrative of an interactive beat mixer. From the initial transformation of a Coca-Cola bottle into a DJ turntable, through the engagement with a virtual beat mixer, to the celebration of a personalized music mix, each description is designed to capture the essence of the interactive experience while being standalone for image generation purposes.\"\n",
        "}"
      ],
      "metadata": {
        "id": "Z3FmyqmfQyug"
      },
      "execution_count": null,
      "outputs": []
    },
    {
      "cell_type": "code",
      "source": [
        "generated_images"
      ],
      "metadata": {
        "id": "wlXNyvbdQ_hg"
      },
      "execution_count": null,
      "outputs": []
    },
    {
      "cell_type": "code",
      "source": [
        "concept = {\n",
        "    \"frame_1\": {\"Background\": \"In the center of a vibrant scene, a high-resolution 3D Coca-Cola bottle surrounded by effervescent bubbles captures the viewer's attention. As the bubbles rise, the bottle seamlessly transforms into a sleek DJ turntable, complete with illuminated controls and a spinning vinyl record bearing the Coke Studio logo. This imagery symbolizes a fusion of refreshing beverage and rhythmic beats. Directly below this dynamic transformation, the call-to-action 'Mix Your Beat' shines in a bold, dynamic font with a playful energy. The text, surrounded by a subtle glow, invites interaction, set against a backdrop designed to evoke creativity and musical exploration.\"},\n",
        "    \"frame_2\": {\"Background\": \"The viewer is presented with an immersive digital beat mixer interface, populated with vibrant, touch-responsive icons of Latin American musical instruments such as congas, claves, and maracas. Each icon, when interacted with, illuminates and animates to release a distinctive sound layer, set against an animated background of abstract, pulsating sound waves. These waves dynamically react to the mixer's activity, changing colors and patterns in real time to visually represent the user's musical creations, encouraging exploration and engagement through a fusion of visual and auditory feedback.\"},\n",
        "    \"frame_3\": {\"Background\": \"With each beat added to the mix, the screen erupts into a dynamic display of colors, creating a visual celebration that mirrors the energy of Coke Studio's musical fusion. This kaleidoscopic animation evolves with the complexity of the user's mix, symbolizing the blend of cultures and music. At the heart of this vibrant spectacle, a 'Play Your Mix' button pulses in rhythm with the music, its design inviting and central, encouraging the viewer to engage and share their creation. The pulsing button serves as a visual anchor, drawing the viewer's attention and culminating the creative process.\"}\n",
        "}"
      ],
      "metadata": {
        "id": "viJGIUlXRFbC"
      },
      "execution_count": null,
      "outputs": []
    },
    {
      "cell_type": "code",
      "source": [
        "ig = ImageGenerater(concept)\n",
        "generated_images = ig.generate_images()"
      ],
      "metadata": {
        "id": "7cQh5VqYRWRE"
      },
      "execution_count": null,
      "outputs": []
    },
    {
      "cell_type": "code",
      "source": [
        "ic = ImageComposer(600,600, list(generated_images.values()))\n",
        "generated_frames = ic.generate_frames()"
      ],
      "metadata": {
        "id": "aPVJ8MJJRgz9"
      },
      "execution_count": null,
      "outputs": []
    },
    {
      "cell_type": "code",
      "source": [
        "generated_frames[2]"
      ],
      "metadata": {
        "id": "ahtRP7oiRowL"
      },
      "execution_count": null,
      "outputs": []
    }
  ]
}