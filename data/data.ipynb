{
  "nbformat": 4,
  "nbformat_minor": 0,
  "metadata": {
    "colab": {
      "provenance": []
    },
    "kernelspec": {
      "name": "python3",
      "display_name": "Python 3"
    },
    "language_info": {
      "name": "python"
    }
  },
  "cells": [
    {
      "cell_type": "code",
      "execution_count": 1,
      "metadata": {
        "colab": {
          "base_uri": "https://localhost:8080/"
        },
        "id": "iPZC29zAz2um",
        "outputId": "031e2bf7-5390-48d2-d0f1-1cf34e9a6f8c"
      },
      "outputs": [
        {
          "output_type": "stream",
          "name": "stdout",
          "text": [
            "Mounted at /content/drive\n"
          ]
        }
      ],
      "source": [
        "from google.colab import drive\n",
        "drive.mount('/content/drive')"
      ]
    },
    {
      "cell_type": "code",
      "source": [
        "import pandas as pd\n",
        "import json\n",
        "\n",
        "# Load JSON file\n",
        "with open('/content/drive/MyDrive/Week12/concepts.json', 'r') as json_file:\n",
        "    data = json.load(json_file)"
      ],
      "metadata": {
        "id": "LdhUimkW0l6S"
      },
      "execution_count": 3,
      "outputs": []
    },
    {
      "cell_type": "code",
      "source": [
        "# Flatten the JSON structure\n",
        "flattened_data = []\n",
        "for entry in data:\n",
        "    concept = entry['concept']\n",
        "    implementation = entry['implementation']\n",
        "    explanation = entry['explanation']\n",
        "    asset_suggestions = entry['asset_suggestions']\n",
        "\n",
        "    for suggestion in asset_suggestions:\n",
        "        frame_1 = suggestion['frame_1']\n",
        "        frame_2 = suggestion['frame_2']\n",
        "       # frame_3 = suggestion[\"frame_3\"]\n",
        "        suggestion_explanation = suggestion['explanation']\n",
        "\n",
        "        flattened_entry = {\n",
        "            'concept': concept,\n",
        "            'implementation_frame_1': list(implementation.values())[0],\n",
        "            'implementation_frame_2': list(implementation.values())[1],\n",
        "           # 'implementation_frame_3': list(implementation.values())[2],\n",
        "            'frame_1': frame_1,\n",
        "            'frame_2': frame_2,\n",
        "           # 'frame_3': frame_3,\n",
        "            'explanation': explanation,\n",
        "            'suggestion_explanation': suggestion_explanation\n",
        "        }\n",
        "        flattened_data.append(flattened_entry)\n",
        "\n",
        "# Create a DataFrame\n",
        "df = pd.DataFrame(flattened_data)"
      ],
      "metadata": {
        "id": "qnehIYE81MOJ"
      },
      "execution_count": 9,
      "outputs": []
    },
    {
      "cell_type": "code",
      "source": [
        "# Display the DataFrame\n",
        "print(df)"
      ],
      "metadata": {
        "colab": {
          "base_uri": "https://localhost:8080/"
        },
        "id": "URPPewaq8u3k",
        "outputId": "a63191d7-43f0-4f4b-83b4-abc3b72d6eda"
      },
      "execution_count": 10,
      "outputs": [
        {
          "output_type": "stream",
          "name": "stdout",
          "text": [
            "                     concept  \\\n",
            "0    Escape Challenge Teaser   \n",
            "1    Escape Challenge Teaser   \n",
            "2    Escape Challenge Teaser   \n",
            "3    Escape Challenge Teaser   \n",
            "4    Escape Challenge Teaser   \n",
            "..                       ...   \n",
            "362     The Silver Challenge   \n",
            "363     The Silver Challenge   \n",
            "364       The Silver Journey   \n",
            "365       The Silver Journey   \n",
            "366       The Silver Journey   \n",
            "\n",
            "                                implementation_frame_1  \\\n",
            "0    {'description': 'The ad begins with a suspense...   \n",
            "1    {'description': 'The ad begins with a suspense...   \n",
            "2    {'description': 'The ad begins with a suspense...   \n",
            "3    {'description': 'The ad begins with a suspense...   \n",
            "4    {'description': 'The ad begins with a suspense...   \n",
            "..                                                 ...   \n",
            "362  {'description': 'The ad begins with a challeng...   \n",
            "363  {'description': 'The ad begins with a challeng...   \n",
            "364  {'description': 'The ad starts with a journey,...   \n",
            "365  {'description': 'The ad starts with a journey,...   \n",
            "366  {'description': 'The ad starts with a journey,...   \n",
            "\n",
            "                                implementation_frame_2  \\\n",
            "0    {'description': 'The scene transitions to a se...   \n",
            "1    {'description': 'The scene transitions to a se...   \n",
            "2    {'description': 'The scene transitions to a se...   \n",
            "3    {'description': 'The scene transitions to a se...   \n",
            "4    {'description': 'The scene transitions to a se...   \n",
            "..                                                 ...   \n",
            "362  {'description': 'The user solves the puzzles, ...   \n",
            "363  {'description': 'The user solves the puzzles, ...   \n",
            "364  {'description': 'The user navigates through a ...   \n",
            "365  {'description': 'The user navigates through a ...   \n",
            "366  {'description': 'The user navigates through a ...   \n",
            "\n",
            "                                               frame_1  \\\n",
            "0    {'Background Animation': 'A suspenseful animat...   \n",
            "1    {'Background': 'A lively, animated cityscape m...   \n",
            "2    {'Background': 'A vibrant, detailed image of a...   \n",
            "3    {'Background': 'A vibrant, bustling LEGO CITY,...   \n",
            "4    {'Background': 'A vibrant, bustling LEGO CITY ...   \n",
            "..                                                 ...   \n",
            "362  {'Background': 'A sleek, metallic backdrop', '...   \n",
            "363  {'Background': 'A classy, silver backdrop with...   \n",
            "364  {'Background': 'A dark, star-studded sky to sy...   \n",
            "365  {'Background': 'A sleek, metallic surface refl...   \n",
            "366  {'Background': 'A dark, star-studded sky, with...   \n",
            "\n",
            "                                               frame_2  \\\n",
            "0    {'Video Clips': 'A series of quick, exciting c...   \n",
            "1    {'Background': 'A blank, grid-like canvas that...   \n",
            "2    {'Animation': 'A unique, engaging animation th...   \n",
            "3    {'Background': 'A first-person view of the LEG...   \n",
            "4    {'Background': 'A series of LEGO CITY scenes r...   \n",
            "..                                                 ...   \n",
            "362  {'Background': 'An immersive, 3D puzzle enviro...   \n",
            "363  {'Background': 'A sophisticated, interactive p...   \n",
            "364  {'Background': 'A dynamic, 3D-rendered virtual...   \n",
            "365  {'Background': 'A futuristic, silver cityscape...   \n",
            "366  {'Background': 'A dynamic, 3D-rendered virtual...   \n",
            "\n",
            "                                           explanation  \\\n",
            "0    This concept aligns with LEGO CITY's brand ide...   \n",
            "1    This concept aligns with LEGO CITY's brand ide...   \n",
            "2    This concept aligns with LEGO CITY's brand ide...   \n",
            "3    This concept aligns with LEGO CITY's brand ide...   \n",
            "4    This concept aligns with LEGO CITY's brand ide...   \n",
            "..                                                 ...   \n",
            "362  The concept aligns with the brand's identity a...   \n",
            "363  The concept aligns with the brand's identity a...   \n",
            "364  The concept aligns with the brand's identity a...   \n",
            "365  The concept aligns with the brand's identity a...   \n",
            "366  The concept aligns with the brand's identity a...   \n",
            "\n",
            "                                suggestion_explanation  \n",
            "0    This variation aligns with the creative brief ...  \n",
            "1    This variation aligns with the concept and bri...  \n",
            "2    This variation aligns with the creative brief ...  \n",
            "3    This variation aligns with the 'City Tour' con...  \n",
            "4    This variation emphasizes the interactive and ...  \n",
            "..                                                 ...  \n",
            "362  This variation takes the 'Silver Challenge' co...  \n",
            "363  This variation aligns with the 'Silver Challen...  \n",
            "364  This variation aligns with the brand's identit...  \n",
            "365  This variation emphasizes the controller's ele...  \n",
            "366  This variation aligns with the brand's identit...  \n",
            "\n",
            "[367 rows x 7 columns]\n"
          ]
        }
      ]
    },
    {
      "cell_type": "markdown",
      "source": [
        "**Exporting the DataFrame to CSV**"
      ],
      "metadata": {
        "id": "qP5PsqlWKsea"
      }
    },
    {
      "cell_type": "code",
      "source": [
        "df.to_csv('/content/drive/MyDrive/Week12/concepts_df.csv', index=False)"
      ],
      "metadata": {
        "id": "imUHOrOWKyfG"
      },
      "execution_count": 17,
      "outputs": []
    }
  ]
}